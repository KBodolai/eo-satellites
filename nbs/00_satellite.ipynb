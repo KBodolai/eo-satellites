{
 "cells": [
  {
   "cell_type": "code",
   "execution_count": null,
   "metadata": {},
   "outputs": [],
   "source": [
    "#| default_exp satellite"
   ]
  },
  {
   "cell_type": "markdown",
   "metadata": {},
   "source": [
    "# satellite\n",
    "\n",
    "> EO satellite core class"
   ]
  },
  {
   "cell_type": "code",
   "execution_count": null,
   "metadata": {},
   "outputs": [],
   "source": [
    "#| hide\n",
    "from nbdev.showdoc import *\n",
    "from fastcore.test import test_eq\n",
    "from fastcore.all import patch"
   ]
  },
  {
   "cell_type": "markdown",
   "metadata": {},
   "source": [
    "Different ways of categorising eo satellites\n",
    "- By sensor type\n",
    "- active vs passive\n",
    "- data availability\n",
    "- etc"
   ]
  },
  {
   "cell_type": "code",
   "execution_count": null,
   "metadata": {},
   "outputs": [],
   "source": [
    "#| export\n",
    "from fastcore.all import store_attr\n",
    "from datetime import datetime"
   ]
  },
  {
   "cell_type": "code",
   "execution_count": null,
   "metadata": {},
   "outputs": [],
   "source": [
    "#| export \n",
    "def get_attrs(cls): \n",
    "    \"\"\"helper function to get attributes from a class\"\"\"\n",
    "    return [i for i in cls.__dict__.keys() if i[:1] != '_']"
   ]
  },
  {
   "cell_type": "code",
   "execution_count": null,
   "metadata": {},
   "outputs": [],
   "source": [
    "#| export\n",
    "# list of optional info for our satellite class\n",
    "acceptable_key_list = ['orbit_type', 'provider', 'description']\n",
    "# some extra annoying stuff just to play around with doc rendering\n",
    "class Satellite:\n",
    "    \"\"\"A class for logging and viewing information about earth observation satellites\"\"\"\n",
    "    def __init__(self, \n",
    "                 name: str, # the name of the satellite\n",
    "                 launch_date: str, # the date of launch (maybe start of operations)\n",
    "                 sensor_type:str='Multispectral', # type of sensor (Multispectral, radar, lidar) \n",
    "                 is_active:bool=False, # emits its own radiation or not?\n",
    "                 end_date:str=None # if it has one, when it died\n",
    "                 ,**kwargs): # other info\n",
    "        store_attr()\n",
    "        for k in kwargs.keys():\n",
    "            if k in acceptable_key_list:\n",
    "                self.__setattr__(k, kwargs[k])\n",
    "                \n",
    "        if isinstance(launch_date, str):\n",
    "            self.launch_date = datetime(*[int(i) for i in launch_date.split('-')]) \n",
    "            \n",
    "    def __str__(self): \n",
    "        if not self.end_date: return f'{self.name}, rocking since {self.launch_date}'\n",
    "        else                : return f'{self.name}, rocked from {self.launch_date} to {self.end_date}, rest in peace'\n",
    "    def __repr__(self): return self.__str__()\n",
    "\n",
    "    def info(self):\n",
    "        for attr in get_attrs(self):\n",
    "            print(f'{attr :>12}',': ', self.__dict__[attr])"
   ]
  },
  {
   "cell_type": "code",
   "execution_count": null,
   "metadata": {},
   "outputs": [
    {
     "data": {
      "text/markdown": [
       "---\n",
       "\n",
       "### Satellite\n",
       "\n",
       ">      Satellite (name:str, launch_date:str, sensor_type:str='Multispectral',\n",
       ">                 is_active:bool=False, end_date:str=None, **kwargs)\n",
       "\n",
       "A class for logging and viewing information about earth observation satellites\n",
       "\n",
       "|    | **Type** | **Default** | **Details** |\n",
       "| -- | -------- | ----------- | ----------- |\n",
       "| name | str |  | the name of the satellite |\n",
       "| launch_date | str |  | the date of launch (maybe start of operations) |\n",
       "| sensor_type | str | Multispectral | type of sensor (Multispectral, radar, lidar) |\n",
       "| is_active | bool | False | emits its own radiation or not? |\n",
       "| end_date | str | None | if it has one, when it died |\n",
       "| kwargs |  |  |  |"
      ],
      "text/plain": [
       "<nbdev.showdoc.BasicMarkdownRenderer at 0x7f8a500d14c0>"
      ]
     },
     "execution_count": null,
     "metadata": {},
     "output_type": "execute_result"
    }
   ],
   "source": [
    "show_doc(Satellite)"
   ]
  },
  {
   "cell_type": "code",
   "execution_count": null,
   "metadata": {},
   "outputs": [],
   "source": [
    "desc = 'this big boy follows his older brothers, the longest series of multispectral satellites, \\\n",
    "collecting data for over 50 years!'\n",
    "landsat8 = Satellite('Landsat-8', '2013-02-11', 'Mulstispectral', provider='NASA', description=desc)"
   ]
  },
  {
   "cell_type": "code",
   "execution_count": null,
   "metadata": {},
   "outputs": [
    {
     "data": {
      "text/plain": [
       "False"
      ]
     },
     "execution_count": null,
     "metadata": {},
     "output_type": "execute_result"
    }
   ],
   "source": [
    "landsat8.is_active"
   ]
  },
  {
   "cell_type": "code",
   "execution_count": null,
   "metadata": {},
   "outputs": [
    {
     "data": {
      "text/plain": [
       "Landsat-8, rocking since 2013-02-11 00:00:00"
      ]
     },
     "execution_count": null,
     "metadata": {},
     "output_type": "execute_result"
    }
   ],
   "source": [
    "landsat8"
   ]
  },
  {
   "cell_type": "code",
   "execution_count": null,
   "metadata": {},
   "outputs": [
    {
     "name": "stdout",
     "output_type": "stream",
     "text": [
      "        name :  Landsat-8\n",
      " launch_date :  2013-02-11 00:00:00\n",
      " sensor_type :  Mulstispectral\n",
      "   is_active :  False\n",
      "    end_date :  None\n",
      "    provider :  NASA\n",
      " description :  this big boy follows his older brothers, the longest series of multispectral satellites, collecting data for over 50 years!\n"
     ]
    }
   ],
   "source": [
    "landsat8.info()"
   ]
  },
  {
   "cell_type": "code",
   "execution_count": null,
   "metadata": {},
   "outputs": [],
   "source": [
    "test_eq(type(landsat8.launch_date), datetime)"
   ]
  },
  {
   "cell_type": "markdown",
   "metadata": {},
   "source": [
    "this can be a good idea because you can add methods with patch and test them after definition, which is great practice (instead of a big monolith class definition and then a crapload of tests)"
   ]
  },
  {
   "cell_type": "code",
   "execution_count": null,
   "metadata": {},
   "outputs": [],
   "source": [
    "@patch\n",
    "def extrainfo(self: Satellite,):\n",
    "    print('WOWZA')"
   ]
  },
  {
   "cell_type": "code",
   "execution_count": null,
   "metadata": {},
   "outputs": [
    {
     "name": "stdout",
     "output_type": "stream",
     "text": [
      "WOWZA\n"
     ]
    }
   ],
   "source": [
    "landsat8 = Satellite('Landsat-8', '2013-02-11', 'Mulstispectral', provider='NASA', description=desc)\n",
    "landsat8.extrainfo()"
   ]
  },
  {
   "cell_type": "code",
   "execution_count": null,
   "metadata": {},
   "outputs": [],
   "source": []
  }
 ],
 "metadata": {
  "kernelspec": {
   "display_name": "Python 3 (ipykernel)",
   "language": "python",
   "name": "python3"
  }
 },
 "nbformat": 4,
 "nbformat_minor": 4
}
